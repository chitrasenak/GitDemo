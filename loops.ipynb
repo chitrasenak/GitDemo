{
 "cells": [
  {
   "cell_type": "code",
   "execution_count": 1,
   "id": "49f9c9ee",
   "metadata": {},
   "outputs": [
    {
     "name": "stdout",
     "output_type": "stream",
     "text": [
      "2 is not divisble by 3\n",
      "9 is divisble by 3\n",
      "6 is divisble by 3\n",
      "5 is not divisble by 3\n",
      "12 is divisble by 3\n",
      "5 is not divisble by 3\n",
      "7 is not divisble by 3\n",
      "8 is not divisble by 3\n"
     ]
    }
   ],
   "source": [
    "l =[2,9,6,5,12,5,7,8]\n",
    "for i in l :\n",
    "    if i % 3 == 0:\n",
    "        print(i, 'is divisble by 3')\n",
    "    else:\n",
    "        print(i, 'is not divisble by 3')\n",
    "        "
   ]
  },
  {
   "cell_type": "code",
   "execution_count": 12,
   "id": "6f1460c9",
   "metadata": {},
   "outputs": [
    {
     "name": "stdout",
     "output_type": "stream",
     "text": [
      "Enter the Number : 12\n",
      "12 Number is present in list\n"
     ]
    }
   ],
   "source": [
    "l =[2,9,6,5,12,5,7,8]\n",
    "number= int(input('Enter the Number : '))\n",
    "for i in range(len(l)) :\n",
    "    if l[i] == number:\n",
    "        print(l[i], 'Number is present in list')"
   ]
  },
  {
   "cell_type": "markdown",
   "id": "d6ad1dd6",
   "metadata": {},
   "source": [
    "- Nested Loops"
   ]
  },
  {
   "cell_type": "code",
   "execution_count": 19,
   "id": "9ecd1319",
   "metadata": {},
   "outputs": [
    {
     "name": "stdout",
     "output_type": "stream",
     "text": [
      "\n",
      "5 \n",
      "5 4 \n",
      "5 4 3 \n",
      "5 4 3 2 \n",
      "5 4 3 2 1 \n"
     ]
    }
   ],
   "source": [
    "for i in range(6,0,-1) :\n",
    "    for j in range(5,i-1,-1):\n",
    "        print(j, end = ' ')\n",
    "    print()"
   ]
  },
  {
   "cell_type": "code",
   "execution_count": 22,
   "id": "3f98e00c",
   "metadata": {},
   "outputs": [
    {
     "name": "stdout",
     "output_type": "stream",
     "text": [
      "5 \n",
      "5 4 \n",
      "5 4 3 \n",
      "5 4 3 2 \n",
      "5 4 3 2 1 \n"
     ]
    }
   ],
   "source": [
    "for i in range(1,6) :\n",
    "    for j in range(5,5-i,-1):\n",
    "        print(j, end = ' ')\n",
    "    print()"
   ]
  },
  {
   "cell_type": "code",
   "execution_count": 28,
   "id": "0ea6b4f5",
   "metadata": {},
   "outputs": [
    {
     "name": "stdout",
     "output_type": "stream",
     "text": [
      "1 2 3 4 5 \n",
      "1 2 3 4 \n",
      "1 2 3 \n",
      "1 2 \n",
      "1 \n"
     ]
    }
   ],
   "source": [
    "for i in range(5,0,-1) :\n",
    "    for j in range(1,i+1):\n",
    "        print(j, end = ' ')\n",
    "    print()"
   ]
  },
  {
   "cell_type": "code",
   "execution_count": 15,
   "id": "2e98dcf1",
   "metadata": {},
   "outputs": [
    {
     "name": "stdout",
     "output_type": "stream",
     "text": [
      "1 2 3 4 5 \n",
      "  1 2 3 4 \n",
      "    1 2 3 \n",
      "      1 2 \n",
      "        1 \n"
     ]
    }
   ],
   "source": [
    "for i in range(5,0,-1) :\n",
    "    for k in range(5-i):\n",
    "        print(' ', end= ' ')\n",
    "    for j in range(1,i+1):\n",
    "        print(j, end = ' ')\n",
    "    print()"
   ]
  },
  {
   "cell_type": "code",
   "execution_count": 25,
   "id": "bd06272d",
   "metadata": {},
   "outputs": [
    {
     "name": "stdout",
     "output_type": "stream",
     "text": [
      "      *\n",
      "     ***\n",
      "    *****\n",
      "   *******\n",
      "  *********\n",
      " ***********\n",
      "*************\n"
     ]
    }
   ],
   "source": [
    "for i in range(1,8):\n",
    "    for k in range(7-i):\n",
    "        print(end= ' ')\n",
    "    for j in range(1,2*i):\n",
    "            print('*',end ='')\n",
    "    print()\n",
    "        "
   ]
  },
  {
   "cell_type": "code",
   "execution_count": 31,
   "id": "8c043b01",
   "metadata": {},
   "outputs": [
    {
     "name": "stdout",
     "output_type": "stream",
     "text": [
      "*************\n",
      " ***********\n",
      "  *********\n",
      "   *******\n",
      "    *****\n",
      "     ***\n",
      "      *\n"
     ]
    }
   ],
   "source": [
    "for i in range(7,0,-1):\n",
    "    for k in range(7-i):\n",
    "        print(end= ' ')\n",
    "    for j in range(1,2*i):\n",
    "            print('*',end ='')\n",
    "    print()\n",
    "        "
   ]
  },
  {
   "cell_type": "code",
   "execution_count": 43,
   "id": "b12ff107",
   "metadata": {},
   "outputs": [
    {
     "name": "stdout",
     "output_type": "stream",
     "text": [
      "*************\n",
      " ***********\n",
      "  *********\n",
      "   *******\n",
      "    *****\n",
      "     ***\n",
      "      *\n"
     ]
    }
   ],
   "source": [
    "for i in range(7,0,-1):\n",
    "    for k in range(7-i):\n",
    "        print(end= ' ')     \n",
    "    for j in range(1,2*i):\n",
    "            print('*',end ='')\n",
    "    print()"
   ]
  },
  {
   "cell_type": "code",
   "execution_count": 35,
   "id": "b1d58e8b",
   "metadata": {},
   "outputs": [
    {
     "name": "stdout",
     "output_type": "stream",
     "text": [
      "1\n",
      "2\n",
      "3\n",
      "4\n",
      "5\n",
      "i is not less than 5\n"
     ]
    }
   ],
   "source": [
    "i=0\n",
    "while i<5:\n",
    "    i += 1\n",
    "    print(i)\n",
    "else:\n",
    "    print('i is not less than 5')"
   ]
  },
  {
   "cell_type": "code",
   "execution_count": null,
   "id": "ca5731c4",
   "metadata": {},
   "outputs": [],
   "source": []
  }
 ],
 "metadata": {
  "kernelspec": {
   "display_name": "Python 3",
   "language": "python",
   "name": "python3"
  },
  "language_info": {
   "codemirror_mode": {
    "name": "ipython",
    "version": 3
   },
   "file_extension": ".py",
   "mimetype": "text/x-python",
   "name": "python",
   "nbconvert_exporter": "python",
   "pygments_lexer": "ipython3",
   "version": "3.8.8"
  }
 },
 "nbformat": 4,
 "nbformat_minor": 5
}
